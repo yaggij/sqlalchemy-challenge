{
 "cells": [
  {
   "cell_type": "code",
   "execution_count": 2,
   "metadata": {},
   "outputs": [],
   "source": [
    "%matplotlib inline\n",
    "from matplotlib import style\n",
    "style.use('fivethirtyeight')\n",
    "import matplotlib.pyplot as plt"
   ]
  },
  {
   "cell_type": "code",
   "execution_count": 3,
   "metadata": {},
   "outputs": [],
   "source": [
    "import numpy as np\n",
    "import pandas as pd"
   ]
  },
  {
   "cell_type": "code",
   "execution_count": 22,
   "metadata": {},
   "outputs": [],
   "source": [
    "import datetime as dt\n",
    "from pprint import pprint"
   ]
  },
  {
   "cell_type": "markdown",
   "metadata": {},
   "source": [
    "# Reflect Tables into SQLAlchemy ORM"
   ]
  },
  {
   "cell_type": "code",
   "execution_count": 23,
   "metadata": {},
   "outputs": [],
   "source": [
    "# Python SQL toolkit and Object Relational Mapper\n",
    "import sqlalchemy\n",
    "from sqlalchemy.ext.automap import automap_base\n",
    "from sqlalchemy.orm import Session\n",
    "from sqlalchemy import create_engine, func, inspect"
   ]
  },
  {
   "cell_type": "code",
   "execution_count": 24,
   "metadata": {},
   "outputs": [],
   "source": [
    "engine = create_engine(\"sqlite:///hawaii.sqlite\")"
   ]
  },
  {
   "cell_type": "code",
   "execution_count": 25,
   "metadata": {},
   "outputs": [],
   "source": [
    "# reflect an existing database into a new model\n",
    "Base = automap_base()\n",
    "Base.prepare(engine, reflect=True)\n",
    "# reflect the tables\n"
   ]
  },
  {
   "cell_type": "code",
   "execution_count": 26,
   "metadata": {},
   "outputs": [
    {
     "data": {
      "text/plain": [
       "['measurement', 'station']"
      ]
     },
     "execution_count": 26,
     "metadata": {},
     "output_type": "execute_result"
    }
   ],
   "source": [
    "# We can view all of the classes that automap found\n",
    "Base.classes.keys()"
   ]
  },
  {
   "cell_type": "code",
   "execution_count": 27,
   "metadata": {},
   "outputs": [
    {
     "name": "stdout",
     "output_type": "stream",
     "text": [
      "id INTEGER\n",
      "station TEXT\n",
      "date TEXT\n",
      "prcp FLOAT\n",
      "tobs FLOAT\n"
     ]
    }
   ],
   "source": [
    "inspector = inspect(engine)\n",
    "columns = inspector.get_columns('measurement')\n",
    "for c in columns:\n",
    "    print(c['name'], c[\"type\"])"
   ]
  },
  {
   "cell_type": "code",
   "execution_count": 28,
   "metadata": {},
   "outputs": [],
   "source": [
    "columns = inspector.get_columns('dow')\n",
    "for c in columns:\n",
    "    print(c['name'], c[\"type\"])"
   ]
  },
  {
   "cell_type": "code",
   "execution_count": 29,
   "metadata": {},
   "outputs": [],
   "source": [
    "# Save references to each table\n",
    "Measurement = Base.classes.measurement\n",
    "Station = Base.classes.station"
   ]
  },
  {
   "cell_type": "code",
   "execution_count": 30,
   "metadata": {},
   "outputs": [],
   "source": [
    "# Create our session (link) from Python to the DB\n",
    "session = Session(engine)"
   ]
  },
  {
   "cell_type": "markdown",
   "metadata": {},
   "source": [
    "# Exploratory Climate Analysis"
   ]
  },
  {
   "cell_type": "code",
   "execution_count": 31,
   "metadata": {},
   "outputs": [
    {
     "data": {
      "text/plain": [
       "<matplotlib.axes._subplots.AxesSubplot at 0x25aa3d9a160>"
      ]
     },
     "execution_count": 31,
     "metadata": {},
     "output_type": "execute_result"
    },
    {
     "data": {
      "image/png": "[encoded data removed]",
      "text/plain": [
       "<Figure size 432x288 with 1 Axes>"
      ]
     },
     "metadata": {},
     "output_type": "display_data"
    }
   ],
   "source": [
    "# Design a query to retrieve the last 12 months of precipitation data and plot the results\n",
    "\n",
    "# Calculate the date 1 year ago from the last data point in the database\n",
    "session.query(Measurement.date).order_by(Measurement.date.desc()).first()   \n",
    "one_yr = dt.date(2017, 8, 23) - dt.timedelta(days=365)\n",
    "one_yr\n",
    "# Perform a query to retrieve the data and precipitation scores\n",
    "prcp_res = session.query(Measurement.date, Measurement.prcp).\\\n",
    "    filter(Measurement.date >= '2016-08-23')\n",
    "# Save the query results as a Pandas DataFrame and set the index to the date column\n",
    "df = pd.DataFrame(prcp_res, columns = ['Date', 'Percipitation'])\n",
    "df.head(50)\n",
    "# Sort the dataframe by date\n",
    "by_date = df.sort_values(by=\"Date\", ascending = True)\n",
    "grouped = by_date.groupby(['Date']).sum()\n",
    "grouped\n",
    "# Use Pandas Plotting with Matplotlib to plot the data\n",
    "grouped.plot()"
   ]
  },
  {
   "cell_type": "code",
   "execution_count": 32,
   "metadata": {},
   "outputs": [
    {
     "data": {
      "text/html": [
       "<div>\n",
       "<style scoped>\n",
       "    .dataframe tbody tr th:only-of-type {\n",
       "        vertical-align: middle;\n",
       "    }\n",
       "\n",
       "    .dataframe tbody tr th {\n",
       "        vertical-align: top;\n",
       "    }\n",
       "\n",
       "    .dataframe thead th {\n",
       "        text-align: right;\n",
       "    }\n",
       "</style>\n",
       "<table border=\"1\" class=\"dataframe\">\n",
       "  <thead>\n",
       "    <tr style=\"text-align: right;\">\n",
       "      <th></th>\n",
       "      <th>Percipitation</th>\n",
       "    </tr>\n",
       "  </thead>\n",
       "  <tbody>\n",
       "    <tr>\n",
       "      <th>count</th>\n",
       "      <td>366.000000</td>\n",
       "    </tr>\n",
       "    <tr>\n",
       "      <th>mean</th>\n",
       "      <td>0.978907</td>\n",
       "    </tr>\n",
       "    <tr>\n",
       "      <th>std</th>\n",
       "      <td>1.776349</td>\n",
       "    </tr>\n",
       "    <tr>\n",
       "      <th>min</th>\n",
       "      <td>0.000000</td>\n",
       "    </tr>\n",
       "    <tr>\n",
       "      <th>25%</th>\n",
       "      <td>0.052500</td>\n",
       "    </tr>\n",
       "    <tr>\n",
       "      <th>50%</th>\n",
       "      <td>0.405000</td>\n",
       "    </tr>\n",
       "    <tr>\n",
       "      <th>75%</th>\n",
       "      <td>1.087500</td>\n",
       "    </tr>\n",
       "    <tr>\n",
       "      <th>max</th>\n",
       "      <td>14.280000</td>\n",
       "    </tr>\n",
       "  </tbody>\n",
       "</table>\n",
       "</div>"
      ],
      "text/plain": [
       "       Percipitation\n",
       "count     366.000000\n",
       "mean        0.978907\n",
       "std         1.776349\n",
       "min         0.000000\n",
       "25%         0.052500\n",
       "50%         0.405000\n",
       "75%         1.087500\n",
       "max        14.280000"
      ]
     },
     "execution_count": 32,
     "metadata": {},
     "output_type": "execute_result"
    }
   ],
   "source": [
    "# Use Pandas to calcualte the summary statistics for the precipitation data\n",
    "grouped.describe()"
   ]
  },
  {
   "cell_type": "code",
   "execution_count": 33,
   "metadata": {},
   "outputs": [
    {
     "name": "stdout",
     "output_type": "stream",
     "text": [
      "id INTEGER\n",
      "station TEXT\n",
      "name TEXT\n",
      "latitude FLOAT\n",
      "longitude FLOAT\n",
      "elevation FLOAT\n"
     ]
    }
   ],
   "source": [
    "\n",
    "\n",
    "columns = inspector.get_columns('station')\n",
    "for c in columns:\n",
    "    print(c['name'], c[\"type\"])\n",
    "    \n",
    "    "
   ]
  },
  {
   "cell_type": "code",
   "execution_count": 34,
   "metadata": {},
   "outputs": [
    {
     "data": {
      "text/plain": [
       "9"
      ]
     },
     "execution_count": 34,
     "metadata": {},
     "output_type": "execute_result"
    }
   ],
   "source": [
    "# Design a query to show how many stations are available in this datase\n",
    "session.query(Station.name).count()"
   ]
  },
  {
   "cell_type": "code",
   "execution_count": 35,
   "metadata": {},
   "outputs": [
    {
     "data": {
      "text/plain": [
       "[('USC00519281', 2772),\n",
       " ('USC00519397', 2724),\n",
       " ('USC00513117', 2709),\n",
       " ('USC00519523', 2669),\n",
       " ('USC00516128', 2612),\n",
       " ('USC00514830', 2202),\n",
       " ('USC00511918', 1979),\n",
       " ('USC00517948', 1372),\n",
       " ('USC00518838', 511)]"
      ]
     },
     "execution_count": 35,
     "metadata": {},
     "output_type": "execute_result"
    }
   ],
   "source": [
    "# What are the most active stations? (i.e. what stations have the most rows)?\n",
    "# List the stations and the counts in descending order.\n",
    "session.query(Measurement.station, func.count(Measurement.station)).\\\n",
    "            group_by(Measurement.station).\\\n",
    "            order_by(func.count(Measurement.station).desc()).all()"
   ]
  },
  {
   "cell_type": "code",
   "execution_count": 36,
   "metadata": {},
   "outputs": [
    {
     "data": {
      "text/plain": [
       "[(54.0, 71.66378066378067, 85.0)]"
      ]
     },
     "execution_count": 36,
     "metadata": {},
     "output_type": "execute_result"
    }
   ],
   "source": [
    "# Using the station id from the previous query, calculate the lowest temperature recorded, \n",
    "# highest temperature recorded, and average temperature of the most active station?\n",
    "session.query(func.min(Measurement.tobs), func.avg(Measurement.tobs), func.max(Measurement.tobs)).\\\n",
    "    filter(Measurement.station == 'USC00519281').all()"
   ]
  },
  {
   "cell_type": "code",
   "execution_count": 37,
   "metadata": {},
   "outputs": [
    {
     "name": "stdout",
     "output_type": "stream",
     "text": [
      "[('USC00519281', 77.0, '2016-08-23'),\n",
      " ('USC00519281', 77.0, '2016-08-24'),\n",
      " ('USC00519281', 80.0, '2016-08-25'),\n",
      " ('USC00519281', 80.0, '2016-08-26'),\n",
      " ('USC00519281', 75.0, '2016-08-27'),\n",
      " ('USC00519281', 73.0, '2016-08-28'),\n",
      " ('USC00519281', 78.0, '2016-08-29'),\n",
      " ('USC00519281', 77.0, '2016-08-30'),\n",
      " ('USC00519281', 78.0, '2016-08-31'),\n",
      " ('USC00519281', 80.0, '2016-09-01'),\n",
      " ('USC00519281', 80.0, '2016-09-02'),\n",
      " ('USC00519281', 78.0, '2016-09-03'),\n",
      " ('USC00519281', 78.0, '2016-09-04'),\n",
      " ('USC00519281', 78.0, '2016-09-05'),\n",
      " ('USC00519281', 73.0, '2016-09-06'),\n",
      " ('USC00519281', 74.0, '2016-09-07'),\n",
      " ('USC00519281', 80.0, '2016-09-08'),\n",
      " ('USC00519281', 79.0, '2016-09-09'),\n",
      " ('USC00519281', 77.0, '2016-09-10'),\n",
      " ('USC00519281', 80.0, '2016-09-11'),\n",
      " ('USC00519281', 76.0, '2016-09-12'),\n",
      " ('USC00519281', 79.0, '2016-09-13'),\n",
      " ('USC00519281', 75.0, '2016-09-14'),\n",
      " ('USC00519281', 79.0, '2016-09-15'),\n",
      " ('USC00519281', 78.0, '2016-09-16'),\n",
      " ('USC00519281', 79.0, '2016-09-17'),\n",
      " ('USC00519281', 78.0, '2016-09-18'),\n",
      " ('USC00519281', 78.0, '2016-09-19'),\n",
      " ('USC00519281', 76.0, '2016-09-20'),\n",
      " ('USC00519281', 74.0, '2016-09-21'),\n",
      " ('USC00519281', 77.0, '2016-09-22'),\n",
      " ('USC00519281', 78.0, '2016-09-23'),\n",
      " ('USC00519281', 79.0, '2016-09-24'),\n",
      " ('USC00519281', 79.0, '2016-09-25'),\n",
      " ('USC00519281', 77.0, '2016-09-26'),\n",
      " ('USC00519281', 80.0, '2016-09-27'),\n",
      " ('USC00519281', 78.0, '2016-09-28'),\n",
      " ('USC00519281', 78.0, '2016-09-29'),\n",
      " ('USC00519281', 78.0, '2016-09-30'),\n",
      " ('USC00519281', 77.0, '2016-10-01'),\n",
      " ('USC00519281', 79.0, '2016-10-02'),\n",
      " ('USC00519281', 79.0, '2016-10-03'),\n",
      " ('USC00519281', 79.0, '2016-10-04'),\n",
      " ('USC00519281', 79.0, '2016-10-05'),\n",
      " ('USC00519281', 75.0, '2016-10-06'),\n",
      " ('USC00519281', 76.0, '2016-10-07'),\n",
      " ('USC00519281', 73.0, '2016-10-08'),\n",
      " ('USC00519281', 72.0, '2016-10-09'),\n",
      " ('USC00519281', 71.0, '2016-10-10'),\n",
      " ('USC00519281', 77.0, '2016-10-11'),\n",
      " ('USC00519281', 79.0, '2016-10-12'),\n",
      " ('USC00519281', 78.0, '2016-10-13'),\n",
      " ('USC00519281', 79.0, '2016-10-14'),\n",
      " ('USC00519281', 77.0, '2016-10-15'),\n",
      " ('USC00519281', 79.0, '2016-10-16'),\n",
      " ('USC00519281', 77.0, '2016-10-17'),\n",
      " ('USC00519281', 78.0, '2016-10-18'),\n",
      " ('USC00519281', 78.0, '2016-10-19'),\n",
      " ('USC00519281', 78.0, '2016-10-20'),\n",
      " ('USC00519281', 78.0, '2016-10-21'),\n",
      " ('USC00519281', 77.0, '2016-10-22'),\n",
      " ('USC00519281', 74.0, '2016-10-23'),\n",
      " ('USC00519281', 75.0, '2016-10-24'),\n",
      " ('USC00519281', 76.0, '2016-10-25'),\n",
      " ('USC00519281', 73.0, '2016-10-26'),\n",
      " ('USC00519281', 76.0, '2016-10-27'),\n",
      " ('USC00519281', 74.0, '2016-10-28'),\n",
      " ('USC00519281', 77.0, '2016-10-29'),\n",
      " ('USC00519281', 76.0, '2016-10-30'),\n",
      " ('USC00519281', 76.0, '2016-10-31'),\n",
      " ('USC00519281', 74.0, '2016-11-01'),\n",
      " ('USC00519281', 75.0, '2016-11-02'),\n",
      " ('USC00519281', 75.0, '2016-11-03'),\n",
      " ('USC00519281', 75.0, '2016-11-04'),\n",
      " ('USC00519281', 75.0, '2016-11-05'),\n",
      " ('USC00519281', 71.0, '2016-11-06'),\n",
      " ('USC00519281', 63.0, '2016-11-07'),\n",
      " ('USC00519281', 70.0, '2016-11-08'),\n",
      " ('USC00519281', 68.0, '2016-11-09'),\n",
      " ('USC00519281', 67.0, '2016-11-10'),\n",
      " ('USC00519281', 77.0, '2016-11-11'),\n",
      " ('USC00519281', 74.0, '2016-11-12'),\n",
      " ('USC00519281', 77.0, '2016-11-13'),\n",
      " ('USC00519281', 76.0, '2016-11-14'),\n",
      " ('USC00519281', 76.0, '2016-11-15'),\n",
      " ('USC00519281', 75.0, '2016-11-16'),\n",
      " ('USC00519281', 76.0, '2016-11-17'),\n",
      " ('USC00519281', 75.0, '2016-11-18'),\n",
      " ('USC00519281', 73.0, '2016-11-19'),\n",
      " ('USC00519281', 75.0, '2016-11-20'),\n",
      " ('USC00519281', 73.0, '2016-11-21'),\n",
      " ('USC00519281', 75.0, '2016-11-22'),\n",
      " ('USC00519281', 74.0, '2016-11-23'),\n",
      " ('USC00519281', 75.0, '2016-11-24'),\n",
      " ('USC00519281', 74.0, '2016-11-25'),\n",
      " ('USC00519281', 75.0, '2016-11-26'),\n",
      " ('USC00519281', 73.0, '2016-11-27'),\n",
      " ('USC00519281', 75.0, '2016-11-28'),\n",
      " ('USC00519281', 73.0, '2016-11-29'),\n",
      " ('USC00519281', 73.0, '2016-11-30'),\n",
      " ('USC00519281', 74.0, '2016-12-01'),\n",
      " ('USC00519281', 70.0, '2016-12-02'),\n",
      " ('USC00519281', 72.0, '2016-12-03'),\n",
      " ('USC00519281', 70.0, '2016-12-04'),\n",
      " ('USC00519281', 67.0, '2016-12-05'),\n",
      " ('USC00519281', 67.0, '2016-12-06'),\n",
      " ('USC00519281', 69.0, '2016-12-07'),\n",
      " ('USC00519281', 70.0, '2016-12-08'),\n",
      " ('USC00519281', 68.0, '2016-12-09'),\n",
      " ('USC00519281', 69.0, '2016-12-10'),\n",
      " ('USC00519281', 69.0, '2016-12-11'),\n",
      " ('USC00519281', 66.0, '2016-12-12'),\n",
      " ('USC00519281', 65.0, '2016-12-13'),\n",
      " ('USC00519281', 68.0, '2016-12-14'),\n",
      " ('USC00519281', 62.0, '2016-12-15'),\n",
      " ('USC00519281', 75.0, '2016-12-16'),\n",
      " ('USC00519281', 70.0, '2016-12-17'),\n",
      " ('USC00519281', 69.0, '2016-12-18'),\n",
      " ('USC00519281', 76.0, '2016-12-19'),\n",
      " ('USC00519281', 76.0, '2016-12-20'),\n",
      " ('USC00519281', 74.0, '2016-12-21'),\n",
      " ('USC00519281', 73.0, '2016-12-22'),\n",
      " ('USC00519281', 71.0, '2016-12-23'),\n",
      " ('USC00519281', 74.0, '2016-12-24'),\n",
      " ('USC00519281', 74.0, '2016-12-25'),\n",
      " ('USC00519281', 72.0, '2016-12-26'),\n",
      " ('USC00519281', 71.0, '2016-12-27'),\n",
      " ('USC00519281', 72.0, '2016-12-28'),\n",
      " ('USC00519281', 74.0, '2016-12-29'),\n",
      " ('USC00519281', 69.0, '2016-12-30'),\n",
      " ('USC00519281', 67.0, '2016-12-31'),\n",
      " ('USC00519281', 72.0, '2017-01-01'),\n",
      " ('USC00519281', 70.0, '2017-01-02'),\n",
      " ('USC00519281', 64.0, '2017-01-03'),\n",
      " ('USC00519281', 63.0, '2017-01-04'),\n",
      " ('USC00519281', 63.0, '2017-01-05'),\n",
      " ('USC00519281', 62.0, '2017-01-06'),\n",
      " ('USC00519281', 70.0, '2017-01-07'),\n",
      " ('USC00519281', 70.0, '2017-01-08'),\n",
      " ('USC00519281', 62.0, '2017-01-09'),\n",
      " ('USC00519281', 62.0, '2017-01-10'),\n",
      " ('USC00519281', 63.0, '2017-01-11'),\n",
      " ('USC00519281', 65.0, '2017-01-12'),\n",
      " ('USC00519281', 69.0, '2017-01-13'),\n",
      " ('USC00519281', 77.0, '2017-01-14'),\n",
      " ('USC00519281', 70.0, '2017-01-15'),\n",
      " ('USC00519281', 74.0, '2017-01-16'),\n",
      " ('USC00519281', 69.0, '2017-01-17'),\n",
      " ('USC00519281', 72.0, '2017-01-18'),\n",
      " ('USC00519281', 71.0, '2017-01-19'),\n",
      " ('USC00519281', 69.0, '2017-01-20'),\n",
      " ('USC00519281', 71.0, '2017-01-21'),\n",
      " ('USC00519281', 71.0, '2017-01-22'),\n",
      " ('USC00519281', 72.0, '2017-01-23'),\n",
      " ('USC00519281', 72.0, '2017-01-24'),\n",
      " ('USC00519281', 69.0, '2017-01-25'),\n",
      " ('USC00519281', 70.0, '2017-01-26'),\n",
      " ('USC00519281', 66.0, '2017-01-27'),\n",
      " ('USC00519281', 65.0, '2017-01-28'),\n",
      " ('USC00519281', 69.0, '2017-01-29'),\n",
      " ('USC00519281', 68.0, '2017-01-30'),\n",
      " ('USC00519281', 68.0, '2017-01-31'),\n",
      " ('USC00519281', 68.0, '2017-02-01'),\n",
      " ('USC00519281', 59.0, '2017-02-02'),\n",
      " ('USC00519281', 60.0, '2017-02-03'),\n",
      " ('USC00519281', 70.0, '2017-02-04'),\n",
      " ('USC00519281', 73.0, '2017-02-05'),\n",
      " ('USC00519281', 75.0, '2017-02-06'),\n",
      " ('USC00519281', 64.0, '2017-02-07'),\n",
      " ('USC00519281', 59.0, '2017-02-08'),\n",
      " ('USC00519281', 59.0, '2017-02-09'),\n",
      " ('USC00519281', 62.0, '2017-02-10'),\n",
      " ('USC00519281', 68.0, '2017-02-11'),\n",
      " ('USC00519281', 70.0, '2017-02-12'),\n",
      " ('USC00519281', 73.0, '2017-02-13'),\n",
      " ('USC00519281', 79.0, '2017-02-14'),\n",
      " ('USC00519281', 75.0, '2017-02-15'),\n",
      " ('USC00519281', 65.0, '2017-02-16'),\n",
      " ('USC00519281', 70.0, '2017-02-17'),\n",
      " ('USC00519281', 74.0, '2017-02-18'),\n",
      " ('USC00519281', 70.0, '2017-02-19'),\n",
      " ('USC00519281', 70.0, '2017-02-20'),\n",
      " ('USC00519281', 71.0, '2017-02-21'),\n",
      " ('USC00519281', 71.0, '2017-02-22'),\n",
      " ('USC00519281', 71.0, '2017-02-23'),\n",
      " ('USC00519281', 69.0, '2017-02-24'),\n",
      " ('USC00519281', 61.0, '2017-02-25'),\n",
      " ('USC00519281', 67.0, '2017-02-26'),\n",
      " ('USC00519281', 65.0, '2017-02-27'),\n",
      " ('USC00519281', 72.0, '2017-02-28'),\n",
      " ('USC00519281', 71.0, '2017-03-01'),\n",
      " ('USC00519281', 73.0, '2017-03-02'),\n",
      " ('USC00519281', 72.0, '2017-03-03'),\n",
      " ('USC00519281', 77.0, '2017-03-04'),\n",
      " ('USC00519281', 73.0, '2017-03-05'),\n",
      " ('USC00519281', 67.0, '2017-03-06'),\n",
      " ('USC00519281', 62.0, '2017-03-07'),\n",
      " ('USC00519281', 64.0, '2017-03-08'),\n",
      " ('USC00519281', 67.0, '2017-03-09'),\n",
      " ('USC00519281', 66.0, '2017-03-10'),\n",
      " ('USC00519281', 81.0, '2017-03-11'),\n",
      " ('USC00519281', 69.0, '2017-03-12'),\n",
      " ('USC00519281', 66.0, '2017-03-13'),\n",
      " ('USC00519281', 67.0, '2017-03-14'),\n",
      " ('USC00519281', 69.0, '2017-03-15'),\n",
      " ('USC00519281', 66.0, '2017-03-16'),\n",
      " ('USC00519281', 68.0, '2017-03-17'),\n",
      " ('USC00519281', 65.0, '2017-03-18'),\n",
      " ('USC00519281', 74.0, '2017-03-19'),\n",
      " ('USC00519281', 69.0, '2017-03-20'),\n",
      " ('USC00519281', 72.0, '2017-03-21'),\n",
      " ('USC00519281', 73.0, '2017-03-22'),\n",
      " ('USC00519281', 72.0, '2017-03-23'),\n",
      " ('USC00519281', 71.0, '2017-03-24'),\n",
      " ('USC00519281', 76.0, '2017-03-25'),\n",
      " ('USC00519281', 77.0, '2017-03-26'),\n",
      " ('USC00519281', 76.0, '2017-03-27'),\n",
      " ('USC00519281', 74.0, '2017-03-28'),\n",
      " ('USC00519281', 68.0, '2017-03-29'),\n",
      " ('USC00519281', 73.0, '2017-03-30'),\n",
      " ('USC00519281', 71.0, '2017-03-31'),\n",
      " ('USC00519281', 74.0, '2017-04-01'),\n",
      " ('USC00519281', 75.0, '2017-04-02'),\n",
      " ('USC00519281', 70.0, '2017-04-03'),\n",
      " ('USC00519281', 67.0, '2017-04-04'),\n",
      " ('USC00519281', 71.0, '2017-04-05'),\n",
      " ('USC00519281', 67.0, '2017-04-06'),\n",
      " ('USC00519281', 74.0, '2017-04-07'),\n",
      " ('USC00519281', 77.0, '2017-04-08'),\n",
      " ('USC00519281', 78.0, '2017-04-09'),\n",
      " ('USC00519281', 67.0, '2017-04-10'),\n",
      " ('USC00519281', 70.0, '2017-04-11'),\n",
      " ('USC00519281', 69.0, '2017-04-12'),\n",
      " ('USC00519281', 69.0, '2017-04-13'),\n",
      " ('USC00519281', 74.0, '2017-04-14'),\n",
      " ('USC00519281', 78.0, '2017-04-15'),\n",
      " ('USC00519281', 71.0, '2017-04-16'),\n",
      " ('USC00519281', 67.0, '2017-04-17'),\n",
      " ('USC00519281', 68.0, '2017-04-18'),\n",
      " ('USC00519281', 67.0, '2017-04-19'),\n",
      " ('USC00519281', 76.0, '2017-04-20'),\n",
      " ('USC00519281', 69.0, '2017-04-21'),\n",
      " ('USC00519281', 72.0, '2017-04-22'),\n",
      " ('USC00519281', 76.0, '2017-04-23'),\n",
      " ('USC00519281', 68.0, '2017-04-24'),\n",
      " ('USC00519281', 72.0, '2017-04-25'),\n",
      " ('USC00519281', 74.0, '2017-04-26'),\n",
      " ('USC00519281', 70.0, '2017-04-27'),\n",
      " ('USC00519281', 67.0, '2017-04-28'),\n",
      " ('USC00519281', 72.0, '2017-04-29'),\n",
      " ('USC00519281', 60.0, '2017-04-30'),\n",
      " ('USC00519281', 65.0, '2017-05-01'),\n",
      " ('USC00519281', 75.0, '2017-05-02'),\n",
      " ('USC00519281', 70.0, '2017-05-03'),\n",
      " ('USC00519281', 75.0, '2017-05-04'),\n",
      " ('USC00519281', 70.0, '2017-05-05'),\n",
      " ('USC00519281', 79.0, '2017-05-06'),\n",
      " ('USC00519281', 75.0, '2017-05-07'),\n",
      " ('USC00519281', 70.0, '2017-05-08'),\n",
      " ('USC00519281', 67.0, '2017-05-09'),\n",
      " ('USC00519281', 74.0, '2017-05-10'),\n",
      " ('USC00519281', 70.0, '2017-05-11'),\n",
      " ('USC00519281', 75.0, '2017-05-12'),\n",
      " ('USC00519281', 76.0, '2017-05-13'),\n",
      " ('USC00519281', 77.0, '2017-05-14'),\n",
      " ('USC00519281', 74.0, '2017-05-15'),\n",
      " ('USC00519281', 74.0, '2017-05-16'),\n",
      " ('USC00519281', 74.0, '2017-05-17'),\n",
      " ('USC00519281', 69.0, '2017-05-18'),\n",
      " ('USC00519281', 68.0, '2017-05-19'),\n",
      " ('USC00519281', 76.0, '2017-05-20'),\n",
      " ('USC00519281', 74.0, '2017-05-21'),\n",
      " ('USC00519281', 71.0, '2017-05-22'),\n",
      " ('USC00519281', 71.0, '2017-05-23'),\n",
      " ('USC00519281', 74.0, '2017-05-24'),\n",
      " ('USC00519281', 74.0, '2017-05-25'),\n",
      " ('USC00519281', 74.0, '2017-05-26'),\n",
      " ('USC00519281', 74.0, '2017-05-27'),\n",
      " ('USC00519281', 80.0, '2017-05-28'),\n",
      " ('USC00519281', 74.0, '2017-05-29'),\n",
      " ('USC00519281', 72.0, '2017-05-30'),\n",
      " ('USC00519281', 75.0, '2017-05-31'),\n",
      " ('USC00519281', 80.0, '2017-06-01'),\n",
      " ('USC00519281', 76.0, '2017-06-02'),\n",
      " ('USC00519281', 76.0, '2017-06-03'),\n",
      " ('USC00519281', 77.0, '2017-06-04'),\n",
      " ('USC00519281', 75.0, '2017-06-05'),\n",
      " ('USC00519281', 75.0, '2017-06-06'),\n",
      " ('USC00519281', 75.0, '2017-06-07'),\n",
      " ('USC00519281', 75.0, '2017-06-08'),\n",
      " ('USC00519281', 72.0, '2017-06-09'),\n",
      " ('USC00519281', 74.0, '2017-06-10'),\n",
      " ('USC00519281', 74.0, '2017-06-11'),\n",
      " ('USC00519281', 74.0, '2017-06-12'),\n",
      " ('USC00519281', 76.0, '2017-06-13'),\n",
      " ('USC00519281', 74.0, '2017-06-14'),\n",
      " ('USC00519281', 75.0, '2017-06-15'),\n",
      " ('USC00519281', 73.0, '2017-06-16'),\n",
      " ('USC00519281', 79.0, '2017-06-17'),\n",
      " ('USC00519281', 75.0, '2017-06-18'),\n",
      " ('USC00519281', 72.0, '2017-06-19'),\n",
      " ('USC00519281', 72.0, '2017-06-20'),\n",
      " ('USC00519281', 74.0, '2017-06-21'),\n",
      " ('USC00519281', 72.0, '2017-06-22'),\n",
      " ('USC00519281', 72.0, '2017-06-23'),\n",
      " ('USC00519281', 77.0, '2017-06-24'),\n",
      " ('USC00519281', 71.0, '2017-06-25'),\n",
      " ('USC00519281', 73.0, '2017-06-26'),\n",
      " ('USC00519281', 76.0, '2017-06-27'),\n",
      " ('USC00519281', 77.0, '2017-06-28'),\n",
      " ('USC00519281', 76.0, '2017-06-29'),\n",
      " ('USC00519281', 76.0, '2017-06-30'),\n",
      " ('USC00519281', 79.0, '2017-07-01'),\n",
      " ('USC00519281', 81.0, '2017-07-02'),\n",
      " ('USC00519281', 76.0, '2017-07-03'),\n",
      " ('USC00519281', 78.0, '2017-07-04'),\n",
      " ('USC00519281', 77.0, '2017-07-05'),\n",
      " ('USC00519281', 74.0, '2017-07-06'),\n",
      " ('USC00519281', 75.0, '2017-07-07'),\n",
      " ('USC00519281', 78.0, '2017-07-08'),\n",
      " ('USC00519281', 78.0, '2017-07-09'),\n",
      " ('USC00519281', 69.0, '2017-07-10'),\n",
      " ('USC00519281', 72.0, '2017-07-11'),\n",
      " ('USC00519281', 74.0, '2017-07-12'),\n",
      " ('USC00519281', 74.0, '2017-07-13'),\n",
      " ('USC00519281', 76.0, '2017-07-14'),\n",
      " ('USC00519281', 80.0, '2017-07-15'),\n",
      " ('USC00519281', 80.0, '2017-07-16'),\n",
      " ('USC00519281', 76.0, '2017-07-17'),\n",
      " ('USC00519281', 76.0, '2017-07-18'),\n",
      " ('USC00519281', 76.0, '2017-07-19'),\n",
      " ('USC00519281', 77.0, '2017-07-20'),\n",
      " ('USC00519281', 77.0, '2017-07-21'),\n",
      " ('USC00519281', 77.0, '2017-07-22'),\n",
      " ('USC00519281', 82.0, '2017-07-23'),\n",
      " ('USC00519281', 75.0, '2017-07-24'),\n",
      " ('USC00519281', 77.0, '2017-07-25'),\n",
      " ('USC00519281', 75.0, '2017-07-26'),\n",
      " ('USC00519281', 76.0, '2017-07-27'),\n",
      " ('USC00519281', 81.0, '2017-07-28'),\n",
      " ('USC00519281', 82.0, '2017-07-29'),\n",
      " ('USC00519281', 81.0, '2017-07-30'),\n",
      " ('USC00519281', 76.0, '2017-07-31'),\n",
      " ('USC00519281', 77.0, '2017-08-04'),\n",
      " ('USC00519281', 82.0, '2017-08-05'),\n",
      " ('USC00519281', 83.0, '2017-08-06'),\n",
      " ('USC00519281', 77.0, '2017-08-13'),\n",
      " ('USC00519281', 77.0, '2017-08-14'),\n",
      " ('USC00519281', 77.0, '2017-08-15'),\n",
      " ('USC00519281', 76.0, '2017-08-16'),\n",
      " ('USC00519281', 76.0, '2017-08-17'),\n",
      " ('USC00519281', 79.0, '2017-08-18')]\n"
     ]
    }
   ],
   "source": [
    "# Choose the station with the highest number of temperature observations.\n",
    "# Query the last 12 months of temperature observation data for this station and plot the results as a histogram\n",
    "high_temp = session.query(Measurement.station, Measurement.tobs, Measurement.date).\\\n",
    "                filter(Measurement.station == 'USC00519281').\\\n",
    "                filter(Measurement.date >= one_yr).all()\n",
    "\n",
    "high_df = pd.DataFrame(high_temp)\n",
    "\n",
    "pprint(high_temp)"
   ]
  },
  {
   "cell_type": "code",
   "execution_count": 21,
   "metadata": {},
   "outputs": [
    {
     "data": {
      "text/plain": [
       "<function matplotlib.pyplot.show(*args, **kw)>"
      ]
     },
     "execution_count": 21,
     "metadata": {},
     "output_type": "execute_result"
    },
    {
     "data": {
      "image/png": "[encoded data removed]",
      "text/plain": [
       "<Figure size 1080x720 with 1 Axes>"
      ]
     },
     "metadata": {},
     "output_type": "display_data"
    }
   ],
   "source": [
    "#Histogram\n",
    "high_df.plot.hist(by='station', bins=12, figsize=(15,10))\n",
    "plt.title(\"Temperature Observations for Station USC00519281\")\n",
    "plt.xlabel(\"Temperature\", fontsize=16)\n",
    "plt.legend()\n",
    "plt.show"
   ]
  },
  {
   "cell_type": "markdown",
   "metadata": {},
   "source": [
    "## Bonus Challenge Assignment"
   ]
  },
  {
   "cell_type": "code",
   "execution_count": null,
   "metadata": {},
   "outputs": [],
   "source": [
    "# This function called `calc_temps` will accept start date and end date in the format '%Y-%m-%d' \n",
    "# and return the minimum, average, and maximum temperatures for that range of dates\n",
    "def calc_temps(start_date, end_date):\n",
    "    \"\"\"TMIN, TAVG, and TMAX for a list of dates.\n",
    "    \n",
    "    Args:\n",
    "        start_date (string): A date string in the format %Y-%m-%d\n",
    "        end_date (string): A date string in the format %Y-%m-%d\n",
    "        \n",
    "    Returns:\n",
    "        TMIN, TAVE, and TMAX\n",
    "    \"\"\"\n",
    "    \n",
    "    return session.query(func.min(Measurement.tobs), func.avg(Measurement.tobs), func.max(Measurement.tobs)).\\\n",
    "        filter(Measurement.date >= start_date).filter(Measurement.date <= end_date).all()\n",
    "\n",
    "# function usage example\n",
    "print(calc_temps('2012-02-28', '2012-03-05'))"
   ]
  },
  {
   "cell_type": "code",
   "execution_count": null,
   "metadata": {},
   "outputs": [],
   "source": [
    "# Use your previous function `calc_temps` to calculate the tmin, tavg, and tmax \n",
    "# for your trip using the previous year's data for those same dates.\n"
   ]
  },
  {
   "cell_type": "code",
   "execution_count": null,
   "metadata": {},
   "outputs": [],
   "source": [
    "# Plot the results from your previous query as a bar chart. \n",
    "# Use \"Trip Avg Temp\" as your Title\n",
    "# Use the average temperature for the y value\n",
    "# Use the peak-to-peak (tmax-tmin) value as the y error bar (yerr)\n"
   ]
  },
  {
   "cell_type": "code",
   "execution_count": null,
   "metadata": {},
   "outputs": [],
   "source": [
    "# Calculate the total amount of rainfall per weather station for your trip dates using the previous year's matching dates.\n",
    "# Sort this in descending order by precipitation amount and list the station, name, latitude, longitude, and elevation\n",
    "\n"
   ]
  },
  {
   "cell_type": "code",
   "execution_count": null,
   "metadata": {},
   "outputs": [],
   "source": [
    "# Create a query that will calculate the daily normals \n",
    "# (i.e. the averages for tmin, tmax, and tavg for all historic data matching a specific month and day)\n",
    "\n",
    "def daily_normals(date):\n",
    "    \"\"\"Daily Normals.\n",
    "    \n",
    "    Args:\n",
    "        date (str): A date string in the format '%m-%d'\n",
    "        \n",
    "    Returns:\n",
    "        A list of tuples containing the daily normals, tmin, tavg, and tmax\n",
    "    \n",
    "    \"\"\"\n",
    "    \n",
    "    sel = [func.min(Measurement.tobs), func.avg(Measurement.tobs), func.max(Measurement.tobs)]\n",
    "    return session.query(*sel).filter(func.strftime(\"%m-%d\", Measurement.date) == date).all()\n",
    "    \n",
    "daily_normals(\"01-01\")"
   ]
  },
  {
   "cell_type": "code",
   "execution_count": null,
   "metadata": {},
   "outputs": [],
   "source": [
    "# calculate the daily normals for your trip\n",
    "# push each tuple of calculations into a list called `normals`\n",
    "\n",
    "# Set the start and end date of the trip\n",
    "\n",
    "# Use the start and end date to create a range of dates\n",
    "\n",
    "# Stip off the year and save a list of %m-%d strings\n",
    "\n",
    "# Loop through the list of %m-%d strings and calculate the normals for each date\n"
   ]
  },
  {
   "cell_type": "code",
   "execution_count": null,
   "metadata": {},
   "outputs": [],
   "source": [
    "# Load the previous query results into a Pandas DataFrame and add the `trip_dates` range as the `date` index\n"
   ]
  },
  {
   "cell_type": "code",
   "execution_count": null,
   "metadata": {},
   "outputs": [],
   "source": [
    "# Plot the daily normals as an area plot with `stacked=False`\n"
   ]
  }
 ],
 "metadata": {
  "kernel_info": {
   "name": "python3"
  },
  "kernelspec": {
   "display_name": "Python 3",
   "language": "python",
   "name": "python3"
  },
  "language_info": {
   "codemirror_mode": {
    "name": "ipython",
    "version": 3
   },
   "file_extension": ".py",
   "mimetype": "text/x-python",
   "name": "python",
   "nbconvert_exporter": "python",
   "pygments_lexer": "ipython3",
   "version": "3.6.10"
  },
  "nteract": {
   "version": "0.12.3"
  },
  "varInspector": {
   "cols": {
    "lenName": 16,
    "lenType": 16,
    "lenVar": 40
   },
   "kernels_config": {
    "python": {
     "delete_cmd_postfix": "",
     "delete_cmd_prefix": "del ",
     "library": "var_list.py",
     "varRefreshCmd": "print(var_dic_list())"
    },
    "r": {
     "delete_cmd_postfix": ") ",
     "delete_cmd_prefix": "rm(",
     "library": "var_list.r",
     "varRefreshCmd": "cat(var_dic_list()) "
    }
   },
   "types_to_exclude": [
    "module",
    "function",
    "builtin_function_or_method",
    "instance",
    "_Feature"
   ],
   "window_display": false
  }
 },
 "nbformat": 4,
 "nbformat_minor": 2
}
